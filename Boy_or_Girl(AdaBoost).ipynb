{
  "nbformat": 4,
  "nbformat_minor": 0,
  "metadata": {
    "colab": {
      "name": "Boy or Gir(AdaBoost)l.ipynb",
      "provenance": [],
      "toc_visible": true
    },
    "kernelspec": {
      "name": "python3",
      "display_name": "Python 3"
    },
    "accelerator": "GPU"
  },
  "cells": [
    {
      "cell_type": "markdown",
      "metadata": {
        "id": "rV-G0-Gsqlek",
        "colab_type": "text"
      },
      "source": [
        "## Load CSV to DataFrame"
      ]
    },
    {
      "cell_type": "code",
      "metadata": {
        "id": "TOf5T2-OqZQY",
        "colab_type": "code",
        "colab": {
          "base_uri": "https://localhost:8080/",
          "height": 34
        },
        "outputId": "88e36379-c26b-4027-8708-533f56d5f474"
      },
      "source": [
        "from google.colab import drive\n",
        "drive.mount('/content/drive')"
      ],
      "execution_count": null,
      "outputs": [
        {
          "output_type": "stream",
          "text": [
            "Drive already mounted at /content/drive; to attempt to forcibly remount, call drive.mount(\"/content/drive\", force_remount=True).\n"
          ],
          "name": "stdout"
        }
      ]
    },
    {
      "cell_type": "code",
      "metadata": {
        "id": "WCyZFoDOqbH3",
        "colab_type": "code",
        "colab": {}
      },
      "source": [
        "import pandas as pd\n",
        "import numpy as np\n",
        "corpus_root = 'drive/My Drive/Colab Notebooks/' \n",
        "\n",
        "df_train = pd.read_csv(corpus_root+'Boy_or_girl_train.csv')\n",
        "df_test = pd.read_csv(corpus_root+'Boy_or_girl_test_no_solution.csv')"
      ],
      "execution_count": null,
      "outputs": []
    },
    {
      "cell_type": "code",
      "metadata": {
        "id": "N-gP_tBjqbLI",
        "colab_type": "code",
        "colab": {}
      },
      "source": [
        "def modify_data(df):\n",
        "  \n",
        "  star_signs = {'水瓶座':1, '雙魚座':2, '牡羊座':3, '金牛座':4, '雙子座':5, '巨蟹座':6, '獅子座':7, '處女座':8, '天秤座':9, '天蠍座':10, '射手座':11, '摩羯座':12}\n",
        "  df = df.replace({\"star_sign\": star_signs})\n",
        "\n",
        "  return df\n",
        "\n",
        "df_train = modify_data(df_train)"
      ],
      "execution_count": null,
      "outputs": []
    },
    {
      "cell_type": "markdown",
      "metadata": {
        "id": "pjsxk2Lmq9P6",
        "colab_type": "text"
      },
      "source": [
        "## 有遺漏值的話先插執法補植"
      ]
    },
    {
      "cell_type": "code",
      "metadata": {
        "id": "AhVILJ3iqbNU",
        "colab_type": "code",
        "colab": {
          "base_uri": "https://localhost:8080/",
          "height": 419
        },
        "outputId": "4ee999e1-46a4-4da9-bac7-91c90f75188a"
      },
      "source": [
        "df_train.isnull().any()\n",
        "\n",
        "df_train = df_train.fillna(df_train.interpolate())\n",
        "\n",
        "df_train"
      ],
      "execution_count": null,
      "outputs": [
        {
          "output_type": "execute_result",
          "data": {
            "text/html": [
              "<div>\n",
              "<style scoped>\n",
              "    .dataframe tbody tr th:only-of-type {\n",
              "        vertical-align: middle;\n",
              "    }\n",
              "\n",
              "    .dataframe tbody tr th {\n",
              "        vertical-align: top;\n",
              "    }\n",
              "\n",
              "    .dataframe thead th {\n",
              "        text-align: right;\n",
              "    }\n",
              "</style>\n",
              "<table border=\"1\" class=\"dataframe\">\n",
              "  <thead>\n",
              "    <tr style=\"text-align: right;\">\n",
              "      <th></th>\n",
              "      <th>id</th>\n",
              "      <th>timestamp</th>\n",
              "      <th>gender</th>\n",
              "      <th>star_sign</th>\n",
              "      <th>phone_os</th>\n",
              "      <th>height</th>\n",
              "      <th>weight</th>\n",
              "      <th>sleepiness</th>\n",
              "      <th>iq</th>\n",
              "      <th>fb_friends</th>\n",
              "      <th>yt</th>\n",
              "      <th>self_intro</th>\n",
              "    </tr>\n",
              "  </thead>\n",
              "  <tbody>\n",
              "    <tr>\n",
              "      <th>0</th>\n",
              "      <td>1</td>\n",
              "      <td>4/7/2017 13:47</td>\n",
              "      <td>2</td>\n",
              "      <td>8</td>\n",
              "      <td>Apple</td>\n",
              "      <td>154.00</td>\n",
              "      <td>43.00000</td>\n",
              "      <td>2</td>\n",
              "      <td>180.00</td>\n",
              "      <td>583.0</td>\n",
              "      <td>0</td>\n",
              "      <td>Beautiful</td>\n",
              "    </tr>\n",
              "    <tr>\n",
              "      <th>1</th>\n",
              "      <td>2</td>\n",
              "      <td>4/7/2017 13:48</td>\n",
              "      <td>2</td>\n",
              "      <td>8</td>\n",
              "      <td>Apple</td>\n",
              "      <td>156.00</td>\n",
              "      <td>47.00000</td>\n",
              "      <td>2</td>\n",
              "      <td>130.00</td>\n",
              "      <td>400.0</td>\n",
              "      <td>3.5</td>\n",
              "      <td>Enjoying being who I'm notsss</td>\n",
              "    </tr>\n",
              "    <tr>\n",
              "      <th>2</th>\n",
              "      <td>3</td>\n",
              "      <td>4/7/2017 13:49</td>\n",
              "      <td>1</td>\n",
              "      <td>11</td>\n",
              "      <td>Android</td>\n",
              "      <td>170.00</td>\n",
              "      <td>61.00000</td>\n",
              "      <td>3</td>\n",
              "      <td>90.00</td>\n",
              "      <td>540.0</td>\n",
              "      <td>5</td>\n",
              "      <td>Practice Makes perfect</td>\n",
              "    </tr>\n",
              "    <tr>\n",
              "      <th>3</th>\n",
              "      <td>4</td>\n",
              "      <td>4/7/2017 13:49</td>\n",
              "      <td>1</td>\n",
              "      <td>11</td>\n",
              "      <td>Apple</td>\n",
              "      <td>170.00</td>\n",
              "      <td>62.00000</td>\n",
              "      <td>4</td>\n",
              "      <td>100.00</td>\n",
              "      <td>173.0</td>\n",
              "      <td>5</td>\n",
              "      <td>Straightforward</td>\n",
              "    </tr>\n",
              "    <tr>\n",
              "      <th>4</th>\n",
              "      <td>5</td>\n",
              "      <td>4/7/2017 13:54</td>\n",
              "      <td>2</td>\n",
              "      <td>11</td>\n",
              "      <td>Android</td>\n",
              "      <td>158.00</td>\n",
              "      <td>67.00000</td>\n",
              "      <td>3</td>\n",
              "      <td>128.00</td>\n",
              "      <td>320.0</td>\n",
              "      <td>1.2</td>\n",
              "      <td>Humorous</td>\n",
              "    </tr>\n",
              "    <tr>\n",
              "      <th>...</th>\n",
              "      <td>...</td>\n",
              "      <td>...</td>\n",
              "      <td>...</td>\n",
              "      <td>...</td>\n",
              "      <td>...</td>\n",
              "      <td>...</td>\n",
              "      <td>...</td>\n",
              "      <td>...</td>\n",
              "      <td>...</td>\n",
              "      <td>...</td>\n",
              "      <td>...</td>\n",
              "      <td>...</td>\n",
              "    </tr>\n",
              "    <tr>\n",
              "      <th>476</th>\n",
              "      <td>477</td>\n",
              "      <td>13/03/2018 10:18:20</td>\n",
              "      <td>1</td>\n",
              "      <td>2</td>\n",
              "      <td>Android</td>\n",
              "      <td>187.00</td>\n",
              "      <td>87.00000</td>\n",
              "      <td>4</td>\n",
              "      <td>87.00</td>\n",
              "      <td>9487.0</td>\n",
              "      <td>5.9487</td>\n",
              "      <td>I'm a 87.</td>\n",
              "    </tr>\n",
              "    <tr>\n",
              "      <th>477</th>\n",
              "      <td>478</td>\n",
              "      <td>13/03/2018 10:18:29</td>\n",
              "      <td>2</td>\n",
              "      <td>5</td>\n",
              "      <td>Android</td>\n",
              "      <td>180.00</td>\n",
              "      <td>88.00000</td>\n",
              "      <td>5</td>\n",
              "      <td>200.00</td>\n",
              "      <td>888.0</td>\n",
              "      <td>1</td>\n",
              "      <td>I'm a \"Typical Lady\".</td>\n",
              "    </tr>\n",
              "    <tr>\n",
              "      <th>478</th>\n",
              "      <td>479</td>\n",
              "      <td>13/03/2018 10:19:40</td>\n",
              "      <td>2</td>\n",
              "      <td>2</td>\n",
              "      <td>Android</td>\n",
              "      <td>158.00</td>\n",
              "      <td>56.00000</td>\n",
              "      <td>3</td>\n",
              "      <td>110.00</td>\n",
              "      <td>589.0</td>\n",
              "      <td>0</td>\n",
              "      <td>I am so cuuuuuuute!</td>\n",
              "    </tr>\n",
              "    <tr>\n",
              "      <th>479</th>\n",
              "      <td>480</td>\n",
              "      <td>13/03/2018 10:20:20</td>\n",
              "      <td>1</td>\n",
              "      <td>8</td>\n",
              "      <td>Android</td>\n",
              "      <td>188.77</td>\n",
              "      <td>87.59487</td>\n",
              "      <td>5</td>\n",
              "      <td>50.87</td>\n",
              "      <td>9487.0</td>\n",
              "      <td>8.74</td>\n",
              "      <td>Let's party!</td>\n",
              "    </tr>\n",
              "    <tr>\n",
              "      <th>480</th>\n",
              "      <td>481</td>\n",
              "      <td>13/03/2018 12:03:21</td>\n",
              "      <td>1</td>\n",
              "      <td>9</td>\n",
              "      <td>Android</td>\n",
              "      <td>176.00</td>\n",
              "      <td>60.00000</td>\n",
              "      <td>3</td>\n",
              "      <td>87.00</td>\n",
              "      <td>300.0</td>\n",
              "      <td>1</td>\n",
              "      <td>Desperate</td>\n",
              "    </tr>\n",
              "  </tbody>\n",
              "</table>\n",
              "<p>481 rows × 12 columns</p>\n",
              "</div>"
            ],
            "text/plain": [
              "      id            timestamp  ...      yt                     self_intro\n",
              "0      1       4/7/2017 13:47  ...       0                      Beautiful\n",
              "1      2       4/7/2017 13:48  ...     3.5  Enjoying being who I'm notsss\n",
              "2      3       4/7/2017 13:49  ...       5         Practice Makes perfect\n",
              "3      4       4/7/2017 13:49  ...       5                Straightforward\n",
              "4      5       4/7/2017 13:54  ...     1.2                       Humorous\n",
              "..   ...                  ...  ...     ...                            ...\n",
              "476  477  13/03/2018 10:18:20  ...  5.9487                      I'm a 87.\n",
              "477  478  13/03/2018 10:18:29  ...       1          I'm a \"Typical Lady\".\n",
              "478  479  13/03/2018 10:19:40  ...       0            I am so cuuuuuuute!\n",
              "479  480  13/03/2018 10:20:20  ...    8.74                   Let's party!\n",
              "480  481  13/03/2018 12:03:21  ...       1                      Desperate\n",
              "\n",
              "[481 rows x 12 columns]"
            ]
          },
          "metadata": {
            "tags": []
          },
          "execution_count": 23
        }
      ]
    },
    {
      "cell_type": "markdown",
      "metadata": {
        "id": "s3APlI9Iujpp",
        "colab_type": "text"
      },
      "source": [
        "## 將 object 轉 digital"
      ]
    },
    {
      "cell_type": "code",
      "metadata": {
        "id": "9dAoTF53qbPa",
        "colab_type": "code",
        "colab": {}
      },
      "source": [
        "# 把 Object 變成數字的function\n",
        "from sklearn.preprocessing import LabelEncoder\n",
        "# df_train['phone_os'] = LabelEncoder().fit_transform(df_train['phone_os'])\n",
        "\n",
        "def transform_object(df):\n",
        "  trian_corr = df.corr()\n",
        "  float_data = trian_corr.index\n",
        "  all_col = df.columns\n",
        "  object_data = []\n",
        "  for i in range(len(all_col)):\n",
        "      if all_col[i] not in float_data:\n",
        "          object_data.append(all_col[i])\n",
        "\n",
        "  for i in object_data:\n",
        "      df[i] = LabelEncoder().fit_transform(df[i].factorize()[0]) \n",
        "  return df\n",
        "\n",
        "df_train = transform_object(df_train)"
      ],
      "execution_count": null,
      "outputs": []
    },
    {
      "cell_type": "markdown",
      "metadata": {
        "id": "mpNY1kqYu0Eg",
        "colab_type": "text"
      },
      "source": [
        "## 刪除不重要欄位、重複值與離群值"
      ]
    },
    {
      "cell_type": "code",
      "metadata": {
        "id": "kednGHy8qbXs",
        "colab_type": "code",
        "colab": {
          "base_uri": "https://localhost:8080/",
          "height": 266
        },
        "outputId": "839c49d5-b073-457a-aedb-bd4589cb8aa4"
      },
      "source": [
        "df_train.drop(['id','timestamp','self_intro','star_sign','phone_os'], axis=1, inplace=True)\n",
        "\n",
        "# 刪除重復值\n",
        "df_train = df_train.drop_duplicates()\n",
        "\n",
        "# 檢查有沒有異常或極端值之類的\n",
        "df_train.describe().astype(np.float64).T"
      ],
      "execution_count": null,
      "outputs": [
        {
          "output_type": "execute_result",
          "data": {
            "text/html": [
              "<div>\n",
              "<style scoped>\n",
              "    .dataframe tbody tr th:only-of-type {\n",
              "        vertical-align: middle;\n",
              "    }\n",
              "\n",
              "    .dataframe tbody tr th {\n",
              "        vertical-align: top;\n",
              "    }\n",
              "\n",
              "    .dataframe thead th {\n",
              "        text-align: right;\n",
              "    }\n",
              "</style>\n",
              "<table border=\"1\" class=\"dataframe\">\n",
              "  <thead>\n",
              "    <tr style=\"text-align: right;\">\n",
              "      <th></th>\n",
              "      <th>count</th>\n",
              "      <th>mean</th>\n",
              "      <th>std</th>\n",
              "      <th>min</th>\n",
              "      <th>25%</th>\n",
              "      <th>50%</th>\n",
              "      <th>75%</th>\n",
              "      <th>max</th>\n",
              "    </tr>\n",
              "  </thead>\n",
              "  <tbody>\n",
              "    <tr>\n",
              "      <th>gender</th>\n",
              "      <td>397.0</td>\n",
              "      <td>1.239295e+00</td>\n",
              "      <td>4.271913e-01</td>\n",
              "      <td>1.0</td>\n",
              "      <td>1.0</td>\n",
              "      <td>1.0</td>\n",
              "      <td>1.0</td>\n",
              "      <td>2.000000e+00</td>\n",
              "    </tr>\n",
              "    <tr>\n",
              "      <th>height</th>\n",
              "      <td>397.0</td>\n",
              "      <td>2.518892e+108</td>\n",
              "      <td>5.018856e+109</td>\n",
              "      <td>-1000.0</td>\n",
              "      <td>165.0</td>\n",
              "      <td>172.0</td>\n",
              "      <td>176.0</td>\n",
              "      <td>1.000000e+111</td>\n",
              "    </tr>\n",
              "    <tr>\n",
              "      <th>weight</th>\n",
              "      <td>397.0</td>\n",
              "      <td>2.518892e+108</td>\n",
              "      <td>5.018856e+109</td>\n",
              "      <td>-1000.0</td>\n",
              "      <td>55.0</td>\n",
              "      <td>65.0</td>\n",
              "      <td>73.0</td>\n",
              "      <td>1.000000e+111</td>\n",
              "    </tr>\n",
              "    <tr>\n",
              "      <th>sleepiness</th>\n",
              "      <td>397.0</td>\n",
              "      <td>3.355164e+00</td>\n",
              "      <td>1.237995e+00</td>\n",
              "      <td>1.0</td>\n",
              "      <td>2.0</td>\n",
              "      <td>3.0</td>\n",
              "      <td>4.0</td>\n",
              "      <td>5.000000e+00</td>\n",
              "    </tr>\n",
              "    <tr>\n",
              "      <th>iq</th>\n",
              "      <td>397.0</td>\n",
              "      <td>1.255875e+02</td>\n",
              "      <td>3.802821e+01</td>\n",
              "      <td>50.0</td>\n",
              "      <td>100.0</td>\n",
              "      <td>120.0</td>\n",
              "      <td>150.0</td>\n",
              "      <td>2.000000e+02</td>\n",
              "    </tr>\n",
              "    <tr>\n",
              "      <th>fb_friends</th>\n",
              "      <td>397.0</td>\n",
              "      <td>2.518892e+252</td>\n",
              "      <td>inf</td>\n",
              "      <td>-1000.0</td>\n",
              "      <td>200.0</td>\n",
              "      <td>430.0</td>\n",
              "      <td>722.0</td>\n",
              "      <td>1.000000e+255</td>\n",
              "    </tr>\n",
              "    <tr>\n",
              "      <th>yt</th>\n",
              "      <td>397.0</td>\n",
              "      <td>3.301511e+01</td>\n",
              "      <td>3.417926e+01</td>\n",
              "      <td>0.0</td>\n",
              "      <td>8.0</td>\n",
              "      <td>17.0</td>\n",
              "      <td>48.0</td>\n",
              "      <td>1.280000e+02</td>\n",
              "    </tr>\n",
              "  </tbody>\n",
              "</table>\n",
              "</div>"
            ],
            "text/plain": [
              "            count           mean            std  ...    50%    75%            max\n",
              "gender      397.0   1.239295e+00   4.271913e-01  ...    1.0    1.0   2.000000e+00\n",
              "height      397.0  2.518892e+108  5.018856e+109  ...  172.0  176.0  1.000000e+111\n",
              "weight      397.0  2.518892e+108  5.018856e+109  ...   65.0   73.0  1.000000e+111\n",
              "sleepiness  397.0   3.355164e+00   1.237995e+00  ...    3.0    4.0   5.000000e+00\n",
              "iq          397.0   1.255875e+02   3.802821e+01  ...  120.0  150.0   2.000000e+02\n",
              "fb_friends  397.0  2.518892e+252            inf  ...  430.0  722.0  1.000000e+255\n",
              "yt          397.0   3.301511e+01   3.417926e+01  ...   17.0   48.0   1.280000e+02\n",
              "\n",
              "[7 rows x 8 columns]"
            ]
          },
          "metadata": {
            "tags": []
          },
          "execution_count": 25
        }
      ]
    },
    {
      "cell_type": "code",
      "metadata": {
        "id": "dyvYv9SYqbVH",
        "colab_type": "code",
        "colab": {
          "base_uri": "https://localhost:8080/",
          "height": 283
        },
        "outputId": "98b540ee-47c1-4da1-abc2-119fb9fa7089"
      },
      "source": [
        "Q1 = df_train.quantile(0.15)\n",
        "Q3 = df_train.quantile(0.85)\n",
        "IQR = Q3 - Q1 \n",
        "\n",
        "# ref: https://www.pluralsight.com/guides/cleaning-up-data-from-outliers & https://medium.com/@prashant.nair2050/hands-on-outlier-detection-and-treatment-in-python-using-1-5-iqr-rule-f9ff1961a414\n",
        "# 刪掉異常值\n",
        "df_out = df_train[~((df_train < (Q1 - 1.5 * IQR)) |(df_train > (Q3 + 1.5 * IQR))).any(axis=1)]\n",
        "# 不要刪掉異常值\n",
        "# df_out = df_train[~((df_train < (Q1 - 1.5 * IQR)) |(df_train > (Q3 + 1.5 * IQR)))].fillna(df_train.median())\n",
        "\n",
        "# df_out = df_out[df_out['weight']>20]\n",
        "print(df_out.shape)\n",
        "df_out.describe().astype(np.float64).T"
      ],
      "execution_count": null,
      "outputs": [
        {
          "output_type": "stream",
          "text": [
            "(364, 7)\n"
          ],
          "name": "stdout"
        },
        {
          "output_type": "execute_result",
          "data": {
            "text/html": [
              "<div>\n",
              "<style scoped>\n",
              "    .dataframe tbody tr th:only-of-type {\n",
              "        vertical-align: middle;\n",
              "    }\n",
              "\n",
              "    .dataframe tbody tr th {\n",
              "        vertical-align: top;\n",
              "    }\n",
              "\n",
              "    .dataframe thead th {\n",
              "        text-align: right;\n",
              "    }\n",
              "</style>\n",
              "<table border=\"1\" class=\"dataframe\">\n",
              "  <thead>\n",
              "    <tr style=\"text-align: right;\">\n",
              "      <th></th>\n",
              "      <th>count</th>\n",
              "      <th>mean</th>\n",
              "      <th>std</th>\n",
              "      <th>min</th>\n",
              "      <th>25%</th>\n",
              "      <th>50%</th>\n",
              "      <th>75%</th>\n",
              "      <th>max</th>\n",
              "    </tr>\n",
              "  </thead>\n",
              "  <tbody>\n",
              "    <tr>\n",
              "      <th>gender</th>\n",
              "      <td>364.0</td>\n",
              "      <td>1.247253</td>\n",
              "      <td>0.432009</td>\n",
              "      <td>1.0</td>\n",
              "      <td>1.0</td>\n",
              "      <td>1.0</td>\n",
              "      <td>1.00</td>\n",
              "      <td>2.0</td>\n",
              "    </tr>\n",
              "    <tr>\n",
              "      <th>height</th>\n",
              "      <td>364.0</td>\n",
              "      <td>170.667500</td>\n",
              "      <td>8.329113</td>\n",
              "      <td>147.0</td>\n",
              "      <td>166.0</td>\n",
              "      <td>171.0</td>\n",
              "      <td>176.00</td>\n",
              "      <td>200.0</td>\n",
              "    </tr>\n",
              "    <tr>\n",
              "      <th>weight</th>\n",
              "      <td>364.0</td>\n",
              "      <td>64.147995</td>\n",
              "      <td>12.655874</td>\n",
              "      <td>10.0</td>\n",
              "      <td>55.0</td>\n",
              "      <td>63.0</td>\n",
              "      <td>72.00</td>\n",
              "      <td>110.0</td>\n",
              "    </tr>\n",
              "    <tr>\n",
              "      <th>sleepiness</th>\n",
              "      <td>364.0</td>\n",
              "      <td>3.387363</td>\n",
              "      <td>1.195010</td>\n",
              "      <td>1.0</td>\n",
              "      <td>3.0</td>\n",
              "      <td>3.0</td>\n",
              "      <td>4.00</td>\n",
              "      <td>5.0</td>\n",
              "    </tr>\n",
              "    <tr>\n",
              "      <th>iq</th>\n",
              "      <td>364.0</td>\n",
              "      <td>125.262363</td>\n",
              "      <td>36.319905</td>\n",
              "      <td>50.0</td>\n",
              "      <td>100.0</td>\n",
              "      <td>120.0</td>\n",
              "      <td>145.00</td>\n",
              "      <td>200.0</td>\n",
              "    </tr>\n",
              "    <tr>\n",
              "      <th>fb_friends</th>\n",
              "      <td>364.0</td>\n",
              "      <td>508.689560</td>\n",
              "      <td>426.029500</td>\n",
              "      <td>0.0</td>\n",
              "      <td>200.0</td>\n",
              "      <td>400.0</td>\n",
              "      <td>681.25</td>\n",
              "      <td>2355.0</td>\n",
              "    </tr>\n",
              "    <tr>\n",
              "      <th>yt</th>\n",
              "      <td>364.0</td>\n",
              "      <td>31.299451</td>\n",
              "      <td>33.555610</td>\n",
              "      <td>0.0</td>\n",
              "      <td>8.0</td>\n",
              "      <td>17.0</td>\n",
              "      <td>41.25</td>\n",
              "      <td>126.0</td>\n",
              "    </tr>\n",
              "  </tbody>\n",
              "</table>\n",
              "</div>"
            ],
            "text/plain": [
              "            count        mean         std    min    25%    50%     75%     max\n",
              "gender      364.0    1.247253    0.432009    1.0    1.0    1.0    1.00     2.0\n",
              "height      364.0  170.667500    8.329113  147.0  166.0  171.0  176.00   200.0\n",
              "weight      364.0   64.147995   12.655874   10.0   55.0   63.0   72.00   110.0\n",
              "sleepiness  364.0    3.387363    1.195010    1.0    3.0    3.0    4.00     5.0\n",
              "iq          364.0  125.262363   36.319905   50.0  100.0  120.0  145.00   200.0\n",
              "fb_friends  364.0  508.689560  426.029500    0.0  200.0  400.0  681.25  2355.0\n",
              "yt          364.0   31.299451   33.555610    0.0    8.0   17.0   41.25   126.0"
            ]
          },
          "metadata": {
            "tags": []
          },
          "execution_count": 26
        }
      ]
    },
    {
      "cell_type": "code",
      "metadata": {
        "id": "J1SNvn8uqbR9",
        "colab_type": "code",
        "colab": {}
      },
      "source": [
        "df_train = df_out"
      ],
      "execution_count": null,
      "outputs": []
    },
    {
      "cell_type": "markdown",
      "metadata": {
        "id": "DDC2ZmTfvJPW",
        "colab_type": "text"
      },
      "source": [
        "## 切割訓練與驗證資料集"
      ]
    },
    {
      "cell_type": "code",
      "metadata": {
        "id": "J4mTSi8fsMdJ",
        "colab_type": "code",
        "colab": {}
      },
      "source": [
        "df_train.describe().transpose()\n",
        "X = df_train.drop('gender',axis=1)\n",
        "y = df_train['gender']"
      ],
      "execution_count": null,
      "outputs": []
    },
    {
      "cell_type": "markdown",
      "metadata": {
        "id": "98Qz50rPvill",
        "colab_type": "text"
      },
      "source": [
        "## AdaBoost"
      ]
    },
    {
      "cell_type": "code",
      "metadata": {
        "id": "cULknMRVsMig",
        "colab_type": "code",
        "colab": {
          "base_uri": "https://localhost:8080/",
          "height": 442
        },
        "outputId": "fe8c30eb-c94b-4b58-970d-f0e94583fd3d"
      },
      "source": [
        "from sklearn.preprocessing import StandardScaler, MinMaxScaler\n",
        "from sklearn.model_selection import train_test_split, cross_val_score\n",
        "from sklearn.metrics import accuracy_score, roc_auc_score, classification_report, confusion_matrix, precision_score, f1_score\n",
        "from sklearn.tree import DecisionTreeClassifier, ExtraTreeClassifier\n",
        "from sklearn.ensemble import AdaBoostClassifier\n",
        "\n",
        "######################\n",
        "# 訓練模型\n",
        "X_train, X_valid, y_train, y_valid = train_test_split(X, y, test_size=0.2, random_state=101)\n",
        "\n",
        "scaler = MinMaxScaler()\n",
        "scaler.fit(X_train)\n",
        "\n",
        "X_train = scaler.transform(X_train)\n",
        "X_valid = scaler.transform(X_valid)\n",
        "\n",
        "model = AdaBoostClassifier(DecisionTreeClassifier(max_depth=4),\n",
        "                         algorithm=\"SAMME\", learning_rate=0.1,\n",
        "                         n_estimators=20)\n",
        "\n",
        "model = model.fit(X_train, y_train)\n",
        "pred = model.predict(X_valid)\n",
        "\n",
        "print ('Accuracy = {:0.2f}%'.format(100.0 * accuracy_score(y_valid, pred)))\n",
        "\n",
        "scores = cross_val_score(model, X_train, y_train, cv=10, scoring = \"accuracy\")\n",
        "\n",
        "print(classification_report(y_valid, pred))\n",
        "print(confusion_matrix(y_valid, pred))\n",
        "print(pred, y_valid)"
      ],
      "execution_count": null,
      "outputs": [
        {
          "output_type": "stream",
          "text": [
            "Accuracy = 94.52%\n",
            "              precision    recall  f1-score   support\n",
            "\n",
            "           1       0.98      0.95      0.97        60\n",
            "           2       0.80      0.92      0.86        13\n",
            "\n",
            "    accuracy                           0.95        73\n",
            "   macro avg       0.89      0.94      0.91        73\n",
            "weighted avg       0.95      0.95      0.95        73\n",
            "\n",
            "[[57  3]\n",
            " [ 1 12]]\n",
            "[2 1 1 1 1 1 1 1 2 1 1 1 1 2 2 1 1 1 1 1 1 2 1 1 1 2 1 1 1 1 1 2 1 2 2 1 1\n",
            " 1 1 1 2 1 1 1 2 1 1 1 1 1 1 1 1 1 1 1 1 1 1 1 1 1 2 1 1 1 1 1 1 2 1 2 2] 95     2\n",
            "116    1\n",
            "313    1\n",
            "358    1\n",
            "411    1\n",
            "      ..\n",
            "351    1\n",
            "12     2\n",
            "161    1\n",
            "427    1\n",
            "23     2\n",
            "Name: gender, Length: 73, dtype: int64\n"
          ],
          "name": "stdout"
        }
      ]
    },
    {
      "cell_type": "code",
      "metadata": {
        "id": "uEixKP7LsMb4",
        "colab_type": "code",
        "colab": {
          "base_uri": "https://localhost:8080/",
          "height": 85
        },
        "outputId": "bbc97257-e18a-4ebe-fd42-437dd0798bae"
      },
      "source": [
        "df_test = modify_data(df_test)\n",
        "\n",
        "id = df_test['id']\n",
        "df_test.drop(['id','timestamp', 'self_intro','star_sign','phone_os','gender'], axis=1, inplace=True)\n",
        "\n",
        "df_test = transform_object(df_test)\n",
        "df_test = scaler.transform(df_test)\n",
        "\n",
        "res = model.predict(df_test)\n",
        "print(res)"
      ],
      "execution_count": null,
      "outputs": [
        {
          "output_type": "stream",
          "text": [
            "[2 1 1 1 1 1 1 2 1 2 2 2 2 2 1 1 2 2 1 1 1 2 2 1 1 1 1 1 2 1 2 1 2 1 1 1 1\n",
            " 1 1 1 1 1 1 1 1 1 2 2 2 1 1 1 1 1 1 1 1 2 2 1 1 1 2 2 2 1 1 1 2 1 1 2 2 1\n",
            " 2 1 1 1 1 2 1 1 1 1 1 2 2 1 2 2 1 1 1 1 1 2 1 1 1 1 2 2 2 1 2 1 2 1 1 1 1\n",
            " 1 1 2 2 2 2 1 1]\n"
          ],
          "name": "stdout"
        }
      ]
    },
    {
      "cell_type": "code",
      "metadata": {
        "id": "oEDD7b76sMYX",
        "colab_type": "code",
        "colab": {}
      },
      "source": [
        "# 存擋\n",
        "submission_df = pd.DataFrame(data= {'Id' : id, 'gender': res})\n",
        "submission_df.to_csv(corpus_root + 'Ada_submition.csv', index=False)"
      ],
      "execution_count": null,
      "outputs": []
    }
  ]
}